{
 "nbformat": 4,
 "nbformat_minor": 0,
 "metadata": {
  "colab": {
   "name": "Copy of mnist_example.ipynb",
   "version": "0.3.2",
   "provenance": [],
   "collapsed_sections": [],
   "toc_visible": true
  },
  "kernelspec": {
   "name": "python3",
   "language": "python",
   "display_name": "Python 3"
  },
  "pycharm": {
   "stem_cell": {
    "cell_type": "raw",
    "source": [],
    "metadata": {
     "collapsed": false
    }
   }
  }
 },
 "cells": [
  {
   "cell_type": "markdown",
   "metadata": {
    "id": "KScAHZqbQ_Sr",
    "colab_type": "text"
   },
   "source": [
    "# Deep Learning Lesson 4: MNIST Classification Version 4 "
   ]
  },
  {
   "cell_type": "code",
   "metadata": {
    "id": "j8S-76b6isA7",
    "colab_type": "code",
    "colab": {}
   },
   "source": [
    ""
   ],
   "execution_count": 0,
   "outputs": []
  },
  {
   "cell_type": "markdown",
   "metadata": {
    "id": "eXNb7rQOQ2bW",
    "colab_type": "text"
   },
   "source": [
    "\n",
    "In this lesson we discuss in how to create a simple IPython Notebook to solve\n",
    "an image classification problem. MNIST contains a set of pictures\n"
   ]
  },
  {
   "cell_type": "code",
   "metadata": {
    "id": "QJGqWkSQQ6Or",
    "colab_type": "code",
    "colab": {}
   },
   "source": [
    "! python3 --version"
   ],
   "execution_count": 0,
   "outputs": []
  },
  {
   "cell_type": "code",
   "metadata": {
    "id": "ujBXQqLRp6vW",
    "colab_type": "code",
    "outputId": "43aa52fc-f83c-4c9a-de30-48448d3787f0",
    "colab": {
     "base_uri": "https://localhost:8080/",
     "height": 445
    }
   },
   "source": [
    "! pip install tensorflow-gpu==1.14.0"
   ],
   "execution_count": 0,
   "outputs": [
    {
     "output_type": "stream",
     "text": [
      "Collecting tensorflow-gpu==1.14.0\n",
      "\u001b[?25l  Downloading https://files.pythonhosted.org/packages/76/04/43153bfdfcf6c9a4c38ecdb971ca9a75b9a791bb69a764d652c359aca504/tensorflow_gpu-1.14.0-cp36-cp36m-manylinux1_x86_64.whl (377.0MB)\n",
      "\u001b[K     |████████████████████████████████| 377.0MB 36kB/s \n",
      "\u001b[?25hRequirement already satisfied: keras-applications>=1.0.6 in /usr/local/lib/python3.6/dist-packages (from tensorflow-gpu==1.14.0) (1.0.8)\n",
      "Requirement already satisfied: keras-preprocessing>=1.0.5 in /usr/local/lib/python3.6/dist-packages (from tensorflow-gpu==1.14.0) (1.1.0)\n",
      "Requirement already satisfied: numpy<2.0,>=1.14.5 in /usr/local/lib/python3.6/dist-packages (from tensorflow-gpu==1.14.0) (1.16.5)\n",
      "Requirement already satisfied: tensorboard<1.15.0,>=1.14.0 in /usr/local/lib/python3.6/dist-packages (from tensorflow-gpu==1.14.0) (1.14.0)\n",
      "Requirement already satisfied: wrapt>=1.11.1 in /usr/local/lib/python3.6/dist-packages (from tensorflow-gpu==1.14.0) (1.11.2)\n",
      "Requirement already satisfied: tensorflow-estimator<1.15.0rc0,>=1.14.0rc0 in /usr/local/lib/python3.6/dist-packages (from tensorflow-gpu==1.14.0) (1.14.0)\n",
      "Requirement already satisfied: wheel>=0.26 in /usr/local/lib/python3.6/dist-packages (from tensorflow-gpu==1.14.0) (0.33.6)\n",
      "Requirement already satisfied: absl-py>=0.7.0 in /usr/local/lib/python3.6/dist-packages (from tensorflow-gpu==1.14.0) (0.8.0)\n",
      "Requirement already satisfied: protobuf>=3.6.1 in /usr/local/lib/python3.6/dist-packages (from tensorflow-gpu==1.14.0) (3.7.1)\n",
      "Requirement already satisfied: grpcio>=1.8.6 in /usr/local/lib/python3.6/dist-packages (from tensorflow-gpu==1.14.0) (1.15.0)\n",
      "Requirement already satisfied: google-pasta>=0.1.6 in /usr/local/lib/python3.6/dist-packages (from tensorflow-gpu==1.14.0) (0.1.7)\n",
      "Requirement already satisfied: astor>=0.6.0 in /usr/local/lib/python3.6/dist-packages (from tensorflow-gpu==1.14.0) (0.8.0)\n",
      "Requirement already satisfied: six>=1.10.0 in /usr/local/lib/python3.6/dist-packages (from tensorflow-gpu==1.14.0) (1.12.0)\n",
      "Requirement already satisfied: termcolor>=1.1.0 in /usr/local/lib/python3.6/dist-packages (from tensorflow-gpu==1.14.0) (1.1.0)\n",
      "Requirement already satisfied: gast>=0.2.0 in /usr/local/lib/python3.6/dist-packages (from tensorflow-gpu==1.14.0) (0.2.2)\n",
      "Requirement already satisfied: h5py in /usr/local/lib/python3.6/dist-packages (from keras-applications>=1.0.6->tensorflow-gpu==1.14.0) (2.8.0)\n",
      "Requirement already satisfied: werkzeug>=0.11.15 in /usr/local/lib/python3.6/dist-packages (from tensorboard<1.15.0,>=1.14.0->tensorflow-gpu==1.14.0) (0.15.5)\n",
      "Requirement already satisfied: markdown>=2.6.8 in /usr/local/lib/python3.6/dist-packages (from tensorboard<1.15.0,>=1.14.0->tensorflow-gpu==1.14.0) (3.1.1)\n",
      "Requirement already satisfied: setuptools>=41.0.0 in /usr/local/lib/python3.6/dist-packages (from tensorboard<1.15.0,>=1.14.0->tensorflow-gpu==1.14.0) (41.2.0)\n",
      "Installing collected packages: tensorflow-gpu\n",
      "Successfully installed tensorflow-gpu-1.14.0\n"
     ],
     "name": "stdout"
    }
   ]
  },
  {
   "cell_type": "markdown",
   "metadata": {
    "id": "ZLpLVkFLRK-1",
    "colab_type": "text"
   },
   "source": [
    "## Import Libraries "
   ]
  },
  {
   "cell_type": "code",
   "metadata": {
    "id": "HqorYeyBkCyi",
    "colab_type": "code",
    "colab": {}
   },
   "source": [
    "from __future__ import absolute_import\n",
    "from __future__ import division\n",
    "from __future__ import print_function\n",
    "\n",
    "import time \n",
    "\n",
    "import numpy as np\n",
    "from keras.models import Sequential\n",
    "from keras.layers import Dense, Activation, Dropout\n",
    "from keras.utils import to_categorical, plot_model\n",
    "from keras.datasets import mnist"
   ],
   "execution_count": 0,
   "outputs": []
  },
  {
   "cell_type": "markdown",
   "metadata": {
    "id": "YajEPjlyRkrr",
    "colab_type": "text"
   },
   "source": [
    "## Pre-process data"
   ]
  },
  {
   "cell_type": "markdown",
   "metadata": {
    "id": "4yOjQ9cjRrwQ",
    "colab_type": "text"
   },
   "source": [
    "### Load data \n",
    "\n",
    "First we load the data from the inbuilt mnist dataset from Keras"
   ]
  },
  {
   "cell_type": "code",
   "metadata": {
    "id": "LN7h9FQ-kIzB",
    "colab_type": "code",
    "colab": {}
   },
   "source": [
    "(x_train, y_train), (x_test, y_test) = mnist.load_data()"
   ],
   "execution_count": 0,
   "outputs": []
  },
  {
   "cell_type": "markdown",
   "metadata": {
    "id": "AJJxAbKxR7kZ",
    "colab_type": "text"
   },
   "source": [
    "### Identify Number of Classes\n",
    "\n",
    "As this is a number classification problem. We need to know how many classes are there. \n",
    "So we'll count the number of unique labels. "
   ]
  },
  {
   "cell_type": "code",
   "metadata": {
    "id": "laqnfrEBSFxZ",
    "colab_type": "code",
    "outputId": "eb76cb6c-0b50-4527-85d9-4fc264c293c4",
    "colab": {
     "base_uri": "https://localhost:8080/",
     "height": 35
    }
   },
   "source": [
    "num_labels = len(np.unique(y_train))"
   ],
   "execution_count": 0,
   "outputs": [
    {
     "output_type": "execute_result",
     "data": {
      "text/plain": [
       "5"
      ]
     },
     "metadata": {
      "tags": []
     },
     "execution_count": 26
    }
   ]
  },
  {
   "cell_type": "markdown",
   "metadata": {
    "id": "ugx6012YSXtA",
    "colab_type": "text"
   },
   "source": [
    "### Convert Labels To One-Hot Vector\n",
    "\n",
    "**|Exercise:** Understand what is an one-hot vector? "
   ]
  },
  {
   "cell_type": "code",
   "metadata": {
    "id": "dpSBHnBEScZN",
    "colab_type": "code",
    "outputId": "2af78048-59ef-49c0-a58f-1899b0e67ce6",
    "colab": {
     "base_uri": "https://localhost:8080/",
     "height": 35
    }
   },
   "source": [
    "y_train = to_categorical(y_train)\n",
    "y_test = to_categorical(y_test)"
   ],
   "execution_count": 0,
   "outputs": [
    {
     "output_type": "execute_result",
     "data": {
      "text/plain": [
       "array([0., 0., 0., 0., 0., 1., 0., 0., 0., 0.], dtype=float32)"
      ]
     },
     "metadata": {
      "tags": []
     },
     "execution_count": 27
    }
   ]
  },
  {
   "cell_type": "markdown",
   "metadata": {
    "id": "vyAfgPaJU753",
    "colab_type": "text"
   },
   "source": [
    "## Image Reshaping\n",
    "\n",
    "The training model is designed by considering the data as a vector.\n",
    "This is a model dependent modification. Here we assume the image is\n",
    "a squared shape image."
   ]
  },
  {
   "cell_type": "code",
   "metadata": {
    "id": "8vxzUIK8Sedn",
    "colab_type": "code",
    "colab": {}
   },
   "source": [
    "image_size = x_train.shape[1]\n",
    "input_size = image_size * image_size"
   ],
   "execution_count": 0,
   "outputs": []
  },
  {
   "cell_type": "markdown",
   "metadata": {
    "id": "gZnBo49lVWDM",
    "colab_type": "text"
   },
   "source": [
    "## Resize and Normalize\n",
    "\n",
    "The next step is to continue the reshaping to a fit into a vector\n",
    "and normalize the data. Image values are from 0 - 255, so an \n",
    "easy way to normalize is to divide by the maximum value. \n",
    "\n",
    "**|Execrcise: Suggest another way to normalize the data preserving the accuracy or improving the accuracy.**"
   ]
  },
  {
   "cell_type": "code",
   "metadata": {
    "id": "b9qUX7mwSf-u",
    "colab_type": "code",
    "colab": {}
   },
   "source": [
    "x_train = np.reshape(x_train, [-1, input_size])\n",
    "x_train = x_train.astype('float32') / 255\n",
    "x_test = np.reshape(x_test, [-1, input_size])\n",
    "x_test = x_test.astype('float32') / 255"
   ],
   "execution_count": 0,
   "outputs": []
  },
  {
   "cell_type": "markdown",
   "metadata": {
    "id": "tn89L_-zVxUB",
    "colab_type": "text"
   },
   "source": [
    "## Create a Keras Model\n",
    "\n",
    "Keras is a neural network library. Most important thing with Keras is the way we design the neural network. \n",
    "\n",
    "In this model we have a couple of ideas to understand. \n",
    "\n",
    "In deep learnning models one of the main issues faced is model **overfitting** and **gradient vanishing**. \n",
    "These issues are well addressed by a concept called **dropout**. \n",
    "\n",
    "**|Exercise: Find out what is model overfitting, gradient vanishing and read some articles on dropout.**\n",
    "\n",
    "A simple model can be initiated by using an **Sequential** instance in Keras. \n",
    "For this instance we add a few layers. \n",
    "\n",
    "1. Dense Layer \n",
    "2. Activation Layer (Relu is the activation function)\n",
    "3. Dropout Layer\n",
    "4. Denise Layer\n",
    "5. Activation Layer (Relu is the activation function)\n",
    "6. Dropout Layer\n",
    "7. Dense Layer\n",
    "8. Activation Layer (Softmax is the activation function)\n",
    "\n",
    "Dense layer and the layer followed by it is fully connected. \n",
    "For instance the number of hidden units used here is 128\n",
    "and the following layer is a dense layer followed by an activation \n",
    "layer and dropout layer. If the dropout layer was not there, all these\n",
    "128 units in the first dense layer and the 128 units in the next dense \n",
    "layer will be connected. You will know why this happens, \n",
    "when you find answers to the exercise questions. \n",
    "\n",
    "**Execrcise: Find out what is the use of an activation function. Discuss how relu and softmax are different. \n",
    "Find out why, softmax was used as the last layer.**\n",
    "\n",
    "The summary function provides tabular summary on the model you created. \n",
    "And the plot_model function provides a grpah on the network you created. "
   ]
  },
  {
   "cell_type": "code",
   "metadata": {
    "id": "c3o_k-adkOy4",
    "colab_type": "code",
    "outputId": "7802bf93-bf83-463d-fa98-354d1a2f4e46",
    "colab": {
     "base_uri": "https://localhost:8080/",
     "height": 1000
    }
   },
   "source": [
    "# Create Model\n",
    "# network parameters\n",
    "batch_size = 128\n",
    "hidden_units = 256\n",
    "dropout = 0.45\n",
    "\n",
    "# model is a 3-layer MLP with ReLU and dropout after each layer\n",
    "model = Sequential()\n",
    "model.add(Dense(hidden_units, input_dim=input_size))\n",
    "model.add(Activation('relu'))\n",
    "model.add(Dropout(dropout))\n",
    "model.add(Dense(hidden_units))\n",
    "model.add(Activation('relu'))\n",
    "model.add(Dropout(dropout))\n",
    "model.add(Dense(num_labels))\n",
    "# this is the output for one-hot vector\n",
    "model.add(Activation('softmax'))\n",
    "model.summary()\n",
    "plot_model(model, to_file='mlp-mnist.png', show_shapes=True)"
   ],
   "execution_count": 0,
   "outputs": [
    {
     "output_type": "stream",
     "text": [
      "WARNING:tensorflow:From /usr/local/lib/python3.6/dist-packages/keras/backend/tensorflow_backend.py:66: The name tf.get_default_graph is deprecated. Please use tf.compat.v1.get_default_graph instead.\n",
      "\n",
      "WARNING:tensorflow:From /usr/local/lib/python3.6/dist-packages/keras/backend/tensorflow_backend.py:541: The name tf.placeholder is deprecated. Please use tf.compat.v1.placeholder instead.\n",
      "\n",
      "WARNING:tensorflow:From /usr/local/lib/python3.6/dist-packages/keras/backend/tensorflow_backend.py:4432: The name tf.random_uniform is deprecated. Please use tf.random.uniform instead.\n",
      "\n",
      "WARNING:tensorflow:From /usr/local/lib/python3.6/dist-packages/keras/backend/tensorflow_backend.py:148: The name tf.placeholder_with_default is deprecated. Please use tf.compat.v1.placeholder_with_default instead.\n",
      "\n",
      "WARNING:tensorflow:From /usr/local/lib/python3.6/dist-packages/keras/backend/tensorflow_backend.py:3733: calling dropout (from tensorflow.python.ops.nn_ops) with keep_prob is deprecated and will be removed in a future version.\n",
      "Instructions for updating:\n",
      "Please use `rate` instead of `keep_prob`. Rate should be set to `rate = 1 - keep_prob`.\n",
      "Model: \"sequential_1\"\n",
      "_________________________________________________________________\n",
      "Layer (type)                 Output Shape              Param #   \n",
      "=================================================================\n",
      "dense_1 (Dense)              (None, 256)               200960    \n",
      "_________________________________________________________________\n",
      "activation_1 (Activation)    (None, 256)               0         \n",
      "_________________________________________________________________\n",
      "dropout_1 (Dropout)          (None, 256)               0         \n",
      "_________________________________________________________________\n",
      "dense_2 (Dense)              (None, 256)               65792     \n",
      "_________________________________________________________________\n",
      "activation_2 (Activation)    (None, 256)               0         \n",
      "_________________________________________________________________\n",
      "dropout_2 (Dropout)          (None, 256)               0         \n",
      "_________________________________________________________________\n",
      "dense_3 (Dense)              (None, 10)                2570      \n",
      "_________________________________________________________________\n",
      "activation_3 (Activation)    (None, 10)                0         \n",
      "=================================================================\n",
      "Total params: 269,322\n",
      "Trainable params: 269,322\n",
      "Non-trainable params: 0\n",
      "_________________________________________________________________\n"
     ],
     "name": "stdout"
    },
    {
     "output_type": "execute_result",
     "data": {
      "image/png": "[encoded data removed]",
      "text/plain": [
       "<IPython.core.display.Image object>"
      ]
     },
     "metadata": {
      "tags": []
     },
     "execution_count": 5
    }
   ]
  },
  {
   "cell_type": "markdown",
   "metadata": {
    "id": "nwl6dlU3aStZ",
    "colab_type": "text"
   },
   "source": [
    "## Compile and Train\n",
    "\n",
    "A keras model need to be compiled before it can be used to train\n",
    "the model. In the compile function, you can provide the optimization\n",
    "that you want to add, metrics you expect and the type of loss function\n",
    "you need to use. \n",
    "\n",
    "Here we use adam optimizer, a famous optimizer used in neural networks. \n",
    "\n",
    "**Exercise: Find 3 other optimizers used on neural networks.**\n",
    "\n",
    "The loss funtion we have used is the categorical_crossentropy. \n",
    "\n",
    "**Exercise: Find other loss functions provided in keras. Your answer can limit to 1 or more.**\n",
    "\n",
    "Once the model is compiled, then the fit function is called upon passing the number of epochs,\n",
    "traing data and batch size. \n",
    "\n",
    "The batch size determines the number of elements used per minibatch in optimizing the function. \n",
    "\n",
    "**Note: Change the number of epochs, batch size and see what happens.**\n",
    "\n",
    "**Exercise: Figure out a way to plot the loss function value. You can use any method you like.** \n"
   ]
  },
  {
   "cell_type": "code",
   "metadata": {
    "id": "WkUMyJyEmsM6",
    "colab_type": "code",
    "outputId": "68af632b-db52-4724-f9e8-51f9ba2a66ef",
    "colab": {
     "base_uri": "https://localhost:8080/",
     "height": 258
    }
   },
   "source": [
    "# Compile and Train\n",
    "\n",
    "# loss function for one-hot vector\n",
    "# use of adam optimizer\n",
    "# accuracy is good metric for classification tasks\n",
    "model.compile(loss='categorical_crossentropy',\n",
    "              optimizer='adam',\n",
    "              metrics=['accuracy'])\n",
    "# train the network\n",
    "model.fit(x_train, y_train, epochs=100, batch_size=batch_size)\n"
   ],
   "execution_count": 0,
   "outputs": [
    {
     "output_type": "stream",
     "text": [
      "WARNING:tensorflow:From /usr/local/lib/python3.6/dist-packages/keras/optimizers.py:793: The name tf.train.Optimizer is deprecated. Please use tf.compat.v1.train.Optimizer instead.\n",
      "\n",
      "WARNING:tensorflow:From /usr/local/lib/python3.6/dist-packages/keras/backend/tensorflow_backend.py:3576: The name tf.log is deprecated. Please use tf.math.log instead.\n",
      "\n",
      "WARNING:tensorflow:From /usr/local/lib/python3.6/dist-packages/tensorflow/python/ops/math_grad.py:1250: add_dispatch_support.<locals>.wrapper (from tensorflow.python.ops.array_ops) is deprecated and will be removed in a future version.\n",
      "Instructions for updating:\n",
      "Use tf.where in 2.0, which has the same broadcast rule as np.where\n",
      "Epoch 1/100\n",
      "60000/60000 [==============================] - 5s 89us/step - loss: 0.4224 - acc: 0.8684\n",
      "Epoch 2/100\n",
      "60000/60000 [==============================] - 5s 84us/step - loss: 0.1952 - acc: 0.9421\n",
      "Epoch 3/100\n",
      "27648/60000 [============>.................] - ETA: 2s - loss: 0.1566 - acc: 0.9527"
     ],
     "name": "stdout"
    }
   ]
  },
  {
   "cell_type": "markdown",
   "metadata": {
    "id": "fDAY7JYmbmOq",
    "colab_type": "text"
   },
   "source": [
    "## Testing \n",
    "\n",
    "Now we can test the trained model. Use the evaluate function by passing\n",
    "test data and batch size and the accuracy and the loss value can be retrieved.\n",
    "\n",
    "**Exercise: Try to optimize the network by changing the number of epochs, batch size and record the best accuracy that you can gain**"
   ]
  },
  {
   "cell_type": "code",
   "metadata": {
    "id": "0sfTk_pcjXHD",
    "colab_type": "code",
    "outputId": "09de8eca-bcb5-4cd8-cba6-e9fb0320256b",
    "colab": {
     "base_uri": "https://localhost:8080/",
     "height": 71
    }
   },
   "source": [
    "# Testing \n",
    "\n",
    "# validate the model on test dataset to determine generalization\n",
    "loss, acc = model.evaluate(x_test, y_test, batch_size=batch_size)\n",
    "print(\"\\nTest accuracy: %.1f%%\" % (100.0 * acc))"
   ],
   "execution_count": 0,
   "outputs": [
    {
     "output_type": "stream",
     "text": [
      "10000/10000 [==============================] - 0s 28us/step\n",
      "\n",
      "Test accuracy: 98.4%\n"
     ],
     "name": "stdout"
    }
   ]
  },
  {
   "cell_type": "markdown",
   "metadata": {
    "id": "b2fDpqnfcEmC",
    "colab_type": "text"
   },
   "source": [
    "## Final Note\n",
    "\n",
    "Objective of this exercise is not to teach you the depths of deep learning. \n",
    "But to teach you basic concepts that may need to design a simple network to \n",
    "solve a problem. Before running the whole code, read all the instructions \n",
    "before a code section. Solve all the problems noted in bold text with Exercise keyword.\n",
    "Write your answers and submit a PDF by following the **Assignment 4**.\n",
    "Include codes or observations you made on those sections. "
   ]
  },
  {
   "cell_type": "markdown",
   "metadata": {
    "id": "UufRkOsSRaUR",
    "colab_type": "text"
   },
   "source": [
    "\n",
    "### Reference: \n",
    "\n",
    "[Orignal Source to Source Code](https://github.com/PacktPublishing/Advanced-Deep-Learning-with-Keras)\n"
   ]
  }
 ]
}