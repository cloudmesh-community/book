{
  "nbformat": 4,
  "nbformat_minor": 0,
  "metadata": {
    "colab": {
      "name": "mnist_example_v1.ipynb",
      "version": "0.3.2",
      "provenance": [],
      "collapsed_sections": [],
      "toc_visible": true
    },
    "kernelspec": {
      "name": "python3",
      "display_name": "Python 3"
    }
  },
  "cells": [
    {
      "cell_type": "markdown",
      "metadata": {
        "id": "KScAHZqbQ_Sr",
        "colab_type": "text"
      },
      "source": [
        "# Deep Learning Lesson 1: MNIST Classification Version 1"
      ]
    },
    {
      "cell_type": "markdown",
      "metadata": {
        "id": "Is92hW1o0Vep",
        "colab_type": "text"
      },
      "source": [
        "## Using Cloudmesh Common\n",
        "\n",
        "Here we do a simple benchmark. We calculate compile time, train time, test time and data loading time for this example. \n",
        "Installing cloudmesh-common library is the first step. "
      ]
    },
    {
      "cell_type": "code",
      "metadata": {
        "id": "j8S-76b6isA7",
        "colab_type": "code",
        "outputId": "367e6b26-0298-4602-df6f-caae678c540b",
        "colab": {
          "base_uri": "https://localhost:8080/",
          "height": 544
        }
      },
      "source": [
        "!pip install cloudmesh-common"
      ],
      "execution_count": 1,
      "outputs": [
        {
          "output_type": "stream",
          "text": [
            "Collecting cloudmesh-common\n",
            "\u001b[?25l  Downloading https://files.pythonhosted.org/packages/bf/0a/cead6a5068b5d12714b1708a22b77b0cc4bf48812687be264c36289d8c21/cloudmesh_common-4.2.10-py2.py3-none-any.whl (54kB)\n",
            "\u001b[K     |████████████████████████████████| 61kB 3.9MB/s \n",
            "\u001b[?25hRequirement already satisfied: humanize in /usr/local/lib/python3.6/dist-packages (from cloudmesh-common) (0.5.1)\n",
            "Collecting python-hostlist (from cloudmesh-common)\n",
            "  Downloading https://files.pythonhosted.org/packages/3d/0f/1846a7a0bdd5d890b6c07f34be89d1571a6addbe59efe59b7b0777e44924/python-hostlist-1.18.tar.gz\n",
            "Collecting colorama (from cloudmesh-common)\n",
            "  Downloading https://files.pythonhosted.org/packages/4f/a6/728666f39bfff1719fc94c481890b2106837da9318031f71a8424b662e12/colorama-0.4.1-py2.py3-none-any.whl\n",
            "Requirement already satisfied: future in /usr/local/lib/python3.6/dist-packages (from cloudmesh-common) (0.16.0)\n",
            "Requirement already satisfied: pathlib in /usr/local/lib/python3.6/dist-packages (from cloudmesh-common) (1.0.1)\n",
            "Requirement already satisfied: python-dateutil in /usr/local/lib/python3.6/dist-packages (from cloudmesh-common) (2.5.3)\n",
            "Requirement already satisfied: psutil in /usr/local/lib/python3.6/dist-packages (from cloudmesh-common) (5.4.8)\n",
            "Collecting simplejson (from cloudmesh-common)\n",
            "\u001b[?25l  Downloading https://files.pythonhosted.org/packages/e3/24/c35fb1c1c315fc0fffe61ea00d3f88e85469004713dab488dee4f35b0aff/simplejson-3.16.0.tar.gz (81kB)\n",
            "\u001b[K     |████████████████████████████████| 81kB 9.7MB/s \n",
            "\u001b[?25hCollecting oyaml (from cloudmesh-common)\n",
            "  Downloading https://files.pythonhosted.org/packages/00/37/ec89398d3163f8f63d892328730e04b3a10927e3780af25baf1ec74f880f/oyaml-0.9-py2.py3-none-any.whl\n",
            "Collecting pathlib2 (from cloudmesh-common)\n",
            "  Downloading https://files.pythonhosted.org/packages/67/c6/4dbf5dfdbe1140cadf765c3896acc098578626c35721bc7d3eb35f6a8fc1/pathlib2-2.3.4-py2.py3-none-any.whl\n",
            "Requirement already satisfied: six>=1.5 in /usr/local/lib/python3.6/dist-packages (from python-dateutil->cloudmesh-common) (1.12.0)\n",
            "Requirement already satisfied: pyyaml in /usr/local/lib/python3.6/dist-packages (from oyaml->cloudmesh-common) (3.13)\n",
            "Building wheels for collected packages: python-hostlist, simplejson\n",
            "  Building wheel for python-hostlist (setup.py) ... \u001b[?25l\u001b[?25hdone\n",
            "  Created wheel for python-hostlist: filename=python_hostlist-1.18-cp36-none-any.whl size=38517 sha256=0f63368107e079d5276eacfd1b6dd621128a711a1dc32b1455c29a694e69ac6c\n",
            "  Stored in directory: /root/.cache/pip/wheels/56/db/1d/b28216dccd982a983d8da66572c497d6a2e485eba7c4d6cba3\n",
            "  Building wheel for simplejson (setup.py) ... \u001b[?25l\u001b[?25hdone\n",
            "  Created wheel for simplejson: filename=simplejson-3.16.0-cp36-cp36m-linux_x86_64.whl size=114025 sha256=e809ca54c790bf24bf93a3a2ab0f03174ac8c3f23a51a9b8cda68c03d9ebff14\n",
            "  Stored in directory: /root/.cache/pip/wheels/5d/1a/1e/0350bb3df3e74215cd91325344cc86c2c691f5306eb4d22c77\n",
            "Successfully built python-hostlist simplejson\n",
            "Installing collected packages: python-hostlist, colorama, simplejson, oyaml, pathlib2, cloudmesh-common\n",
            "Successfully installed cloudmesh-common-4.2.10 colorama-0.4.1 oyaml-0.9 pathlib2-2.3.4 python-hostlist-1.18 simplejson-3.16.0\n"
          ],
          "name": "stdout"
        }
      ]
    },
    {
      "cell_type": "markdown",
      "metadata": {
        "id": "eXNb7rQOQ2bW",
        "colab_type": "text"
      },
      "source": [
        "\n",
        "In this lesson we discuss in how to create a simple IPython Notebook to solve\n",
        "an image classification problem. MNIST contains a set of pictures\n"
      ]
    },
    {
      "cell_type": "code",
      "metadata": {
        "id": "QJGqWkSQQ6Or",
        "colab_type": "code",
        "outputId": "596d1c08-aba6-4b1a-a54f-b906e8183b15",
        "colab": {
          "base_uri": "https://localhost:8080/",
          "height": 34
        }
      },
      "source": [
        "! python3 --version"
      ],
      "execution_count": 2,
      "outputs": [
        {
          "output_type": "stream",
          "text": [
            "Python 3.6.8\n"
          ],
          "name": "stdout"
        }
      ]
    },
    {
      "cell_type": "code",
      "metadata": {
        "id": "ujBXQqLRp6vW",
        "colab_type": "code",
        "outputId": "c0f4d227-f490-4116-c3d5-c903faa501cd",
        "colab": {
          "base_uri": "https://localhost:8080/",
          "height": 425
        }
      },
      "source": [
        "! pip install tensorflow-gpu==1.14.0"
      ],
      "execution_count": 3,
      "outputs": [
        {
          "output_type": "stream",
          "text": [
            "Collecting tensorflow-gpu==1.14.0\n",
            "\u001b[?25l  Downloading https://files.pythonhosted.org/packages/76/04/43153bfdfcf6c9a4c38ecdb971ca9a75b9a791bb69a764d652c359aca504/tensorflow_gpu-1.14.0-cp36-cp36m-manylinux1_x86_64.whl (377.0MB)\n",
            "\u001b[K     |████████████████████████████████| 377.0MB 58kB/s \n",
            "\u001b[?25hRequirement already satisfied: wrapt>=1.11.1 in /usr/local/lib/python3.6/dist-packages (from tensorflow-gpu==1.14.0) (1.11.2)\n",
            "Requirement already satisfied: wheel>=0.26 in /usr/local/lib/python3.6/dist-packages (from tensorflow-gpu==1.14.0) (0.33.6)\n",
            "Requirement already satisfied: numpy<2.0,>=1.14.5 in /usr/local/lib/python3.6/dist-packages (from tensorflow-gpu==1.14.0) (1.16.5)\n",
            "Requirement already satisfied: keras-preprocessing>=1.0.5 in /usr/local/lib/python3.6/dist-packages (from tensorflow-gpu==1.14.0) (1.1.0)\n",
            "Requirement already satisfied: astor>=0.6.0 in /usr/local/lib/python3.6/dist-packages (from tensorflow-gpu==1.14.0) (0.8.0)\n",
            "Requirement already satisfied: grpcio>=1.8.6 in /usr/local/lib/python3.6/dist-packages (from tensorflow-gpu==1.14.0) (1.15.0)\n",
            "Requirement already satisfied: keras-applications>=1.0.6 in /usr/local/lib/python3.6/dist-packages (from tensorflow-gpu==1.14.0) (1.0.8)\n",
            "Requirement already satisfied: tensorflow-estimator<1.15.0rc0,>=1.14.0rc0 in /usr/local/lib/python3.6/dist-packages (from tensorflow-gpu==1.14.0) (1.14.0)\n",
            "Requirement already satisfied: google-pasta>=0.1.6 in /usr/local/lib/python3.6/dist-packages (from tensorflow-gpu==1.14.0) (0.1.7)\n",
            "Requirement already satisfied: protobuf>=3.6.1 in /usr/local/lib/python3.6/dist-packages (from tensorflow-gpu==1.14.0) (3.7.1)\n",
            "Requirement already satisfied: six>=1.10.0 in /usr/local/lib/python3.6/dist-packages (from tensorflow-gpu==1.14.0) (1.12.0)\n",
            "Requirement already satisfied: tensorboard<1.15.0,>=1.14.0 in /usr/local/lib/python3.6/dist-packages (from tensorflow-gpu==1.14.0) (1.14.0)\n",
            "Requirement already satisfied: absl-py>=0.7.0 in /usr/local/lib/python3.6/dist-packages (from tensorflow-gpu==1.14.0) (0.8.0)\n",
            "Requirement already satisfied: gast>=0.2.0 in /usr/local/lib/python3.6/dist-packages (from tensorflow-gpu==1.14.0) (0.2.2)\n",
            "Requirement already satisfied: termcolor>=1.1.0 in /usr/local/lib/python3.6/dist-packages (from tensorflow-gpu==1.14.0) (1.1.0)\n",
            "Requirement already satisfied: h5py in /usr/local/lib/python3.6/dist-packages (from keras-applications>=1.0.6->tensorflow-gpu==1.14.0) (2.8.0)\n",
            "Requirement already satisfied: setuptools in /usr/local/lib/python3.6/dist-packages (from protobuf>=3.6.1->tensorflow-gpu==1.14.0) (41.2.0)\n",
            "Requirement already satisfied: werkzeug>=0.11.15 in /usr/local/lib/python3.6/dist-packages (from tensorboard<1.15.0,>=1.14.0->tensorflow-gpu==1.14.0) (0.15.6)\n",
            "Requirement already satisfied: markdown>=2.6.8 in /usr/local/lib/python3.6/dist-packages (from tensorboard<1.15.0,>=1.14.0->tensorflow-gpu==1.14.0) (3.1.1)\n",
            "Installing collected packages: tensorflow-gpu\n",
            "Successfully installed tensorflow-gpu-1.14.0\n"
          ],
          "name": "stdout"
        }
      ]
    },
    {
      "cell_type": "markdown",
      "metadata": {
        "id": "ZLpLVkFLRK-1",
        "colab_type": "text"
      },
      "source": [
        "## Import Libraries \n",
        "\n",
        "Note: https://python-future.org/quickstart.html"
      ]
    },
    {
      "cell_type": "code",
      "metadata": {
        "id": "HqorYeyBkCyi",
        "colab_type": "code",
        "outputId": "e86b5db9-9ab2-461e-92f9-45e70aeca881",
        "colab": {
          "base_uri": "https://localhost:8080/",
          "height": 34
        }
      },
      "source": [
        "from __future__ import absolute_import\n",
        "from __future__ import division\n",
        "from __future__ import print_function\n",
        "\n",
        "import time \n",
        "\n",
        "import numpy as np\n",
        "from keras.models import Sequential\n",
        "from keras.layers import Dense, Activation, Dropout\n",
        "from keras.utils import to_categorical, plot_model\n",
        "from keras.datasets import mnist\n",
        "\n",
        "from cloudmesh.common.StopWatch import StopWatch\n"
      ],
      "execution_count": 4,
      "outputs": [
        {
          "output_type": "stream",
          "text": [
            "Using TensorFlow backend.\n"
          ],
          "name": "stderr"
        }
      ]
    },
    {
      "cell_type": "markdown",
      "metadata": {
        "id": "YajEPjlyRkrr",
        "colab_type": "text"
      },
      "source": [
        "## Pre-process data"
      ]
    },
    {
      "cell_type": "markdown",
      "metadata": {
        "id": "4yOjQ9cjRrwQ",
        "colab_type": "text"
      },
      "source": [
        "### Load data \n",
        "\n",
        "First we load the data from the inbuilt mnist dataset from Keras"
      ]
    },
    {
      "cell_type": "code",
      "metadata": {
        "id": "LN7h9FQ-kIzB",
        "colab_type": "code",
        "outputId": "1927cef5-8363-44cd-ceb5-03495d190b8f",
        "colab": {
          "base_uri": "https://localhost:8080/",
          "height": 51
        }
      },
      "source": [
        "StopWatch.start(\"data-load\")\n",
        "(x_train, y_train), (x_test, y_test) = mnist.load_data()\n",
        "StopWatch.stop(\"data-load\")"
      ],
      "execution_count": 5,
      "outputs": [
        {
          "output_type": "stream",
          "text": [
            "Downloading data from https://s3.amazonaws.com/img-datasets/mnist.npz\n",
            "11493376/11490434 [==============================] - 1s 0us/step\n"
          ],
          "name": "stdout"
        }
      ]
    },
    {
      "cell_type": "markdown",
      "metadata": {
        "id": "AJJxAbKxR7kZ",
        "colab_type": "text"
      },
      "source": [
        "### Identify Number of Classes\n",
        "\n",
        "As this is a number classification problem. We need to know how many classes are there. \n",
        "So we'll count the number of unique labels. "
      ]
    },
    {
      "cell_type": "code",
      "metadata": {
        "id": "laqnfrEBSFxZ",
        "colab_type": "code",
        "colab": {}
      },
      "source": [
        "num_labels = len(np.unique(y_train))"
      ],
      "execution_count": 0,
      "outputs": []
    },
    {
      "cell_type": "markdown",
      "metadata": {
        "id": "ugx6012YSXtA",
        "colab_type": "text"
      },
      "source": [
        "### Convert Labels To One-Hot Vector\n",
        "\n",
        "**|Exercise:** Understand what is an one-hot vector? "
      ]
    },
    {
      "cell_type": "code",
      "metadata": {
        "id": "dpSBHnBEScZN",
        "colab_type": "code",
        "colab": {}
      },
      "source": [
        "y_train = to_categorical(y_train)\n",
        "y_test = to_categorical(y_test)"
      ],
      "execution_count": 0,
      "outputs": []
    },
    {
      "cell_type": "markdown",
      "metadata": {
        "id": "vyAfgPaJU753",
        "colab_type": "text"
      },
      "source": [
        "## Image Reshaping\n",
        "\n",
        "The training model is designed by considering the data as a vector.\n",
        "This is a model dependent modification. Here we assume the image is\n",
        "a squared shape image."
      ]
    },
    {
      "cell_type": "code",
      "metadata": {
        "id": "8vxzUIK8Sedn",
        "colab_type": "code",
        "colab": {}
      },
      "source": [
        "image_size = x_train.shape[1]\n",
        "input_size = image_size * image_size"
      ],
      "execution_count": 0,
      "outputs": []
    },
    {
      "cell_type": "markdown",
      "metadata": {
        "id": "gZnBo49lVWDM",
        "colab_type": "text"
      },
      "source": [
        "## Resize and Normalize\n",
        "\n",
        "The next step is to continue the reshaping to a fit into a vector\n",
        "and normalize the data. Image values are from 0 - 255, so an \n",
        "easy way to normalize is to divide by the maximum value. \n",
        "\n",
        "**|Execrcise: Suggest another way to normalize the data preserving the accuracy or improving the accuracy.**"
      ]
    },
    {
      "cell_type": "code",
      "metadata": {
        "id": "b9qUX7mwSf-u",
        "colab_type": "code",
        "colab": {}
      },
      "source": [
        "x_train = np.reshape(x_train, [-1, input_size])\n",
        "x_train = x_train.astype('float32') / 255\n",
        "x_test = np.reshape(x_test, [-1, input_size])\n",
        "x_test = x_test.astype('float32') / 255"
      ],
      "execution_count": 0,
      "outputs": []
    },
    {
      "cell_type": "markdown",
      "metadata": {
        "id": "tn89L_-zVxUB",
        "colab_type": "text"
      },
      "source": [
        "## Create a Keras Model\n",
        "\n",
        "Keras is a neural network library. Most important thing with Keras is the way we design the neural network. \n",
        "\n",
        "In this model we have a couple of ideas to understand. \n",
        "\n",
        "**|Exercise MNIST_V1.1: Find out what is a dense layer?**\n",
        "\n",
        "A simple model can be initiated by using an **Sequential** instance in Keras. \n",
        "For this instance we add a single layer. \n",
        "\n",
        "1. Dense Layer \n",
        "2. Activation Layer (Softmax is the activation function)\n",
        "\n",
        "Dense layer and the layer followed by it is fully connected. \n",
        "For instance the number of hidden units used here is 64\n",
        "and the following layer is a dense layer followed by an activation \n",
        "layer.\n",
        "\n",
        "**|Execrcise MNIST_V1.2: Find out what is the use of an activation function. Find out why, softmax was used as the last layer.**\n"
      ]
    },
    {
      "cell_type": "code",
      "metadata": {
        "id": "c3o_k-adkOy4",
        "colab_type": "code",
        "outputId": "bdd4c29e-3b0c-472e-dbac-aeeb52274afc",
        "colab": {
          "base_uri": "https://localhost:8080/",
          "height": 660
        }
      },
      "source": [
        "batch_size = 4\n",
        "hidden_units = 64\n",
        "\n",
        "model = Sequential()\n",
        "model.add(Dense(hidden_units, input_dim=input_size))\n",
        "model.add(Dense(num_labels))\n",
        "model.add(Activation('softmax'))\n",
        "model.summary()\n",
        "plot_model(model, to_file='mnist_v1.png', show_shapes=True)"
      ],
      "execution_count": 20,
      "outputs": [
        {
          "output_type": "stream",
          "text": [
            "Model: \"sequential_5\"\n",
            "_________________________________________________________________\n",
            "Layer (type)                 Output Shape              Param #   \n",
            "=================================================================\n",
            "dense_9 (Dense)              (None, 64)                50240     \n",
            "_________________________________________________________________\n",
            "dense_10 (Dense)             (None, 10)                650       \n",
            "_________________________________________________________________\n",
            "activation_5 (Activation)    (None, 10)                0         \n",
            "=================================================================\n",
            "Total params: 50,890\n",
            "Trainable params: 50,890\n",
            "Non-trainable params: 0\n",
            "_________________________________________________________________\n"
          ],
          "name": "stdout"
        },
        {
          "output_type": "execute_result",
          "data": {
            "image/png": "[encoded data removed]",
            "text/plain": [
              "<IPython.core.display.Image object>"
            ]
          },
          "metadata": {
            "tags": []
          },
          "execution_count": 20
        }
      ]
    },
    {
      "cell_type": "markdown",
      "metadata": {
        "id": "nwl6dlU3aStZ",
        "colab_type": "text"
      },
      "source": [
        "## Compile and Train\n",
        "\n",
        "A keras model need to be compiled before it can be used to train\n",
        "the model. In the compile function, you can provide the optimization\n",
        "that you want to add, metrics you expect and the type of loss function\n",
        "you need to use. \n",
        "\n",
        "Here we use the adam optimizer, a famous optimizer used in neural networks. \n",
        "\n",
        "**Exercise: Find 3 other optimizers used on neural networks.**\n",
        "\n",
        "The loss funtion we have used is the categorical_crossentropy. \n",
        "\n",
        "**Exercise: Find other loss functions provided in keras. Your answer can limit to 1 or more.**\n",
        "\n",
        "Once the model is compiled, then the fit function is called upon passing the number of epochs,\n",
        "traing data and batch size. \n",
        "\n",
        "The batch size determines the number of elements used per minibatch in optimizing the function. \n",
        "\n",
        "**Note: Change the number of epochs, batch size and see what happens.**\n",
        "\n",
        "**Exercise: Figure out a way to plot the loss function value. You can use any method you like.** \n"
      ]
    },
    {
      "cell_type": "code",
      "metadata": {
        "id": "WkUMyJyEmsM6",
        "colab_type": "code",
        "outputId": "ca65a029-6848-4484-c892-1ba42eae5dbe",
        "colab": {
          "base_uri": "https://localhost:8080/",
          "height": 51
        }
      },
      "source": [
        "StopWatch.start(\"compile\")\n",
        "model.compile(loss='categorical_crossentropy',\n",
        "              optimizer='adam',\n",
        "              metrics=['accuracy'])\n",
        "StopWatch.stop(\"compile\")\n",
        "StopWatch.start(\"train\")\n",
        "model.fit(x_train, y_train, epochs=1, batch_size=batch_size)\n",
        "StopWatch.stop(\"train\")"
      ],
      "execution_count": 17,
      "outputs": [
        {
          "output_type": "stream",
          "text": [
            "Epoch 1/1\n",
            "60000/60000 [==============================] - 24s 408us/step - loss: 0.3736 - acc: 0.8937\n"
          ],
          "name": "stdout"
        }
      ]
    },
    {
      "cell_type": "markdown",
      "metadata": {
        "id": "fDAY7JYmbmOq",
        "colab_type": "text"
      },
      "source": [
        "## Testing \n",
        "\n",
        "Now we can test the trained model. Use the evaluate function by passing\n",
        "test data and batch size and the accuracy and the loss value can be retrieved.\n",
        "\n",
        "**Exercise: Try to optimize the network by changing the number of epochs, batch size and record the best accuracy that you can gain**"
      ]
    },
    {
      "cell_type": "code",
      "metadata": {
        "id": "0sfTk_pcjXHD",
        "colab_type": "code",
        "outputId": "c165b1c3-2237-47b9-8e3e-e72f31c33c5f",
        "colab": {
          "base_uri": "https://localhost:8080/",
          "height": 68
        }
      },
      "source": [
        "StopWatch.start(\"test\")\n",
        "loss, acc = model.evaluate(x_test, y_test, batch_size=batch_size)\n",
        "print(\"\\nTest accuracy: %.1f%%\" % (100.0 * acc))\n",
        "StopWatch.stop(\"test\")"
      ],
      "execution_count": 18,
      "outputs": [
        {
          "output_type": "stream",
          "text": [
            "10000/10000 [==============================] - 2s 178us/step\n",
            "\n",
            "Test accuracy: 90.8%\n"
          ],
          "name": "stdout"
        }
      ]
    },
    {
      "cell_type": "code",
      "metadata": {
        "id": "HWkKNGQNzqCB",
        "colab_type": "code",
        "outputId": "3d2a1573-a4a6-47a5-abbd-fd9b5e0e420e",
        "colab": {
          "base_uri": "https://localhost:8080/",
          "height": 1000
        }
      },
      "source": [
        "StopWatch.benchmark()"
      ],
      "execution_count": 19,
      "outputs": [
        {
          "output_type": "stream",
          "text": [
            "\n",
            "+---------------------+------------------------------------------------------------------+\n",
            "| Machine Attribute   | Value                                                            |\n",
            "+---------------------+------------------------------------------------------------------+\n",
            "| BUG_REPORT_URL      | \"https://bugs.launchpad.net/ubuntu/\"                             |\n",
            "| DISTRIB_CODENAME    | bionic                                                           |\n",
            "| DISTRIB_DESCRIPTION | \"Ubuntu 18.04.3 LTS\"                                             |\n",
            "| DISTRIB_ID          | Ubuntu                                                           |\n",
            "| DISTRIB_RELEASE     | 18.04                                                            |\n",
            "| HOME_URL            | \"https://www.ubuntu.com/\"                                        |\n",
            "| ID                  | ubuntu                                                           |\n",
            "| ID_LIKE             | debian                                                           |\n",
            "| NAME                | \"Ubuntu\"                                                         |\n",
            "| PRETTY_NAME         | \"Ubuntu 18.04.3 LTS\"                                             |\n",
            "| PRIVACY_POLICY_URL  | \"https://www.ubuntu.com/legal/terms-and-policies/privacy-policy\" |\n",
            "| SUPPORT_URL         | \"https://help.ubuntu.com/\"                                       |\n",
            "| UBUNTU_CODENAME     | bionic                                                           |\n",
            "| VERSION             | \"18.04.3 LTS (Bionic Beaver)\"                                    |\n",
            "| VERSION_CODENAME    | bionic                                                           |\n",
            "| VERSION_ID          | \"18.04\"                                                          |\n",
            "| cpu_count           | 2                                                                |\n",
            "| mac_version         |                                                                  |\n",
            "| machine             | ('x86_64',)                                                      |\n",
            "| mem_active          | 976.0 MiB                                                        |\n",
            "| mem_available       | 11.7 GiB                                                         |\n",
            "| mem_free            | 5.0 GiB                                                          |\n",
            "| mem_inactive        | 6.3 GiB                                                          |\n",
            "| mem_percent         | 8.2%                                                             |\n",
            "| mem_total           | 12.7 GiB                                                         |\n",
            "| mem_used            | 874.2 MiB                                                        |\n",
            "| node                | ('783df1b57355',)                                                |\n",
            "| platform            | Linux-4.14.137+-x86_64-with-Ubuntu-18.04-bionic                  |\n",
            "| processor           | ('x86_64',)                                                      |\n",
            "| processors          | Linux                                                            |\n",
            "| python              | 3.6.8 (default, Jan 14 2019, 11:02:34)                           |\n",
            "|                     | [GCC 8.0.1 20180414 (experimental) [trunk revision 259383]]      |\n",
            "| release             | ('4.14.137+',)                                                   |\n",
            "| sys                 | linux                                                            |\n",
            "| system              | Linux                                                            |\n",
            "| user                |                                                                  |\n",
            "| version             | #1 SMP Thu Aug 8 02:47:02 PDT 2019                               |\n",
            "| win_version         |                                                                  |\n",
            "+---------------------+------------------------------------------------------------------+\n",
            "+-----------+--------+---------------------+-----+-------------------+------+--------+-------------+-------------+\n",
            "| timer     | time   | start               | tag | node              | user | system | mac_version | win_version |\n",
            "+-----------+--------+---------------------+-----+-------------------+------+--------+-------------+-------------+\n",
            "| data-load | 1.414  | 2019-09-11 19:43:23 |     | ('783df1b57355',) |      | Linux  |             |             |\n",
            "| compile   | 0.05   | 2019-09-11 19:49:54 |     | ('783df1b57355',) |      | Linux  |             |             |\n",
            "| train     | 24.763 | 2019-09-11 19:49:54 |     | ('783df1b57355',) |      | Linux  |             |             |\n",
            "| test      | 1.789  | 2019-09-11 19:50:21 |     | ('783df1b57355',) |      | Linux  |             |             |\n",
            "+-----------+--------+---------------------+-----+-------------------+------+--------+-------------+-------------+\n",
            "\n",
            "timer,time,starttag,node,user,system,mac_version,win_version\n",
            "data-load,1.414,None,('783df1b57355',),,Linux,,\n",
            "compile,0.05,None,('783df1b57355',),,Linux,,\n",
            "train,24.763,None,('783df1b57355',),,Linux,,\n",
            "test,1.789,None,('783df1b57355',),,Linux,,\n",
            "\n"
          ],
          "name": "stdout"
        }
      ]
    },
    {
      "cell_type": "markdown",
      "metadata": {
        "id": "b2fDpqnfcEmC",
        "colab_type": "text"
      },
      "source": [
        "## Final Note\n",
        "\n",
        "This programme can be defined as a hello world programme in deep learning. \n",
        "Objective of this exercise is not to teach you the depths of deep learning. \n",
        "But to teach you basic concepts that may need to design a simple network to \n",
        "solve a problem. Before running the whole code, read all the instructions \n",
        "before a code section. Solve all the problems noted in bold text with Exercise keyword.\n",
        "Write your answers and submit a PDF by following the **Assignment 4**.\n",
        "Include codes or observations you made on those sections. "
      ]
    },
    {
      "cell_type": "markdown",
      "metadata": {
        "id": "UufRkOsSRaUR",
        "colab_type": "text"
      },
      "source": [
        "\n",
        "### Reference: \n",
        "\n",
        "[Mnist Database](https://en.wikipedia.org/wiki/MNIST_database)\n",
        "\n",
        "[Advanced Deep Learning Models](https://github.com/PacktPublishing/Advanced-Deep-Learning-with-Keras)\n",
        "\n",
        "[Minist Deep Learning](http://deeplearning.net/tutorial/gettingstarted.html)\n"
      ]
    }
  ]
}