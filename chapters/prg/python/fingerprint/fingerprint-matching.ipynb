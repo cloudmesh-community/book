{
 "cells": [
  {
   "cell_type": "markdown",
   "metadata": {},
   "source": [
    "# Python Fingerprint Example\n",
    "\n",
    "Python is a flexible and popular language for running data analysis pipelines. In this tutorial we will implement a solution for a fingerprint matching.\n",
    "\n",
    "## Overview\n",
    "\n",
    "Fingerprint recognition refers to the automated method for verifying a match between two fingerprints and that is used to identify individuals and verify their identity. Fingerprints (Figure 1) are the most widely used form of biometric used to identify individuals.\n",
    "\n",
    "![Fingerprints](./fingerprints.png)\n",
    "\n",
    "The automated fingerprint matching generally required the detection of different fingerprint features (aggregate characteristics of ridges, and minutia points) and then the use of fingerprint matching algorithm, which can do both one-to- one and one-to- many matching operations. Based on the number of matches a proximity score (distance or similarity) can be calculated.\n",
    "\n",
    "We use the following NIST dataset for the study:\n",
    "\n",
    "Special Database 14 - NIST Mated Fingerprint Card Pairs 2. (http://www.nist.gov/itl/iad/ig/special_dbases.cfm)\n",
    "\n",
    "\n",
    "\n",
    "## Objectives\n",
    "\n",
    "Match the fingerprint images from a probe set to a gallery set and report the match scores.\n",
    "\n",
    "## Prerequisites\n",
    "\n",
    "For this work we will use the following algorithms:\n",
    "\n",
    "- MINDTCT: The NIST minutiae detector, which automatically locates and records ridge ending and bifurcations in a fingerprint image. (http://www.nist.gov/itl/iad/ig/nbis.cfm)\n",
    "- BOZORTH3: A NIST fingerprint matching algorithm, which is a minutiae based fingerprint-matching algorithm. It can do both one-to- one and one-to- many matching operations. (http://www.nist.gov/itl/iad/ig/nbis.cfm)\n",
    "\n",
    "\n",
    "In order to follow along, you must have the NBIS tools which provide `mindtct` and `bozorth3` installed. If you are on Ubuntu 16.04 Xenial, the following steps will accomplish this:\n",
    "\n",
    "```\n",
    "$ sudo apt-get update -qq\n",
    "$ sudo apt-get install -y build-essential cmake unzip\n",
    "$ wget \"http://nigos.nist.gov:8080/nist/nbis/nbis_v5_0_0.zip\"\n",
    "$ unzip -d nbis nbis_v5_0_0.zip\n",
    "$ cd nbis/Rel_5.0.0\n",
    "$ ./setup.sh /usr/local --without-X11\n",
    "$ sudo make\n",
    "```\n",
    "\n",
    "## Implementation\n",
    "\n",
    "1. Fetch the fingerprint images from the web\n",
    "1. Call out to external programs to prepare and compute the match scoreds\n",
    "1. Store the results in a database\n",
    "1. Generate a plot to identify  likely matches."
   ]
  },
  {
   "cell_type": "code",
   "execution_count": 1,
   "metadata": {
    "collapsed": true
   },
   "outputs": [],
   "source": [
    "from __future__ import print_function"
   ]
  },
  {
   "cell_type": "code",
   "execution_count": 2,
   "metadata": {
    "collapsed": true
   },
   "outputs": [],
   "source": [
    "import urllib\n",
    "import zipfile\n",
    "import hashlib"
   ]
  },
  {
   "cell_type": "markdown",
   "metadata": {
    "collapsed": true
   },
   "source": [
    "We'll be interacting with the operating system and manipulating files and their pathnames."
   ]
  },
  {
   "cell_type": "code",
   "execution_count": 3,
   "metadata": {
    "collapsed": true
   },
   "outputs": [],
   "source": [
    "import os.path\n",
    "import os\n",
    "import sys\n",
    "import shutil\n",
    "import tempfile"
   ]
  },
  {
   "cell_type": "markdown",
   "metadata": {},
   "source": [
    "Some general usefull utilities"
   ]
  },
  {
   "cell_type": "code",
   "execution_count": 4,
   "metadata": {
    "collapsed": true
   },
   "outputs": [],
   "source": [
    "import itertools\n",
    "import functools\n",
    "import types\n",
    "from pprint import pprint"
   ]
  },
  {
   "cell_type": "markdown",
   "metadata": {},
   "source": [
    "Using the `attrs` library provides some nice shortcuts to defining objects"
   ]
  },
  {
   "cell_type": "code",
   "execution_count": 5,
   "metadata": {
    "collapsed": false
   },
   "outputs": [],
   "source": [
    "import attr"
   ]
  },
  {
   "cell_type": "code",
   "execution_count": 6,
   "metadata": {
    "collapsed": true
   },
   "outputs": [],
   "source": [
    "import sys\n"
   ]
  },
  {
   "cell_type": "markdown",
   "metadata": {},
   "source": [
    "We'll be randomly dividing the entire dataset, based on user input, into the probe and gallery stets"
   ]
  },
  {
   "cell_type": "code",
   "execution_count": 7,
   "metadata": {
    "collapsed": true
   },
   "outputs": [],
   "source": [
    "import random"
   ]
  },
  {
   "cell_type": "markdown",
   "metadata": {},
   "source": [
    "We'll need to call out to the NBIS software. We'll also be using multiple processes to take advantage of all the cores on our machine"
   ]
  },
  {
   "cell_type": "code",
   "execution_count": 8,
   "metadata": {
    "collapsed": true
   },
   "outputs": [],
   "source": [
    "import subprocess\n",
    "import multiprocessing"
   ]
  },
  {
   "cell_type": "markdown",
   "metadata": {},
   "source": [
    "As for plotting, we will use `matplotlib`, though there are many alternatives."
   ]
  },
  {
   "cell_type": "code",
   "execution_count": 9,
   "metadata": {
    "collapsed": false
   },
   "outputs": [],
   "source": [
    "import matplotlib.pyplot as plt\n",
    "import pandas as pd\n",
    "import numpy as np"
   ]
  },
  {
   "cell_type": "markdown",
   "metadata": {},
   "source": [
    "Finally, we will write the results to a database."
   ]
  },
  {
   "cell_type": "code",
   "execution_count": 10,
   "metadata": {
    "collapsed": true
   },
   "outputs": [],
   "source": [
    "import sqlite3"
   ]
  },
  {
   "cell_type": "markdown",
   "metadata": {},
   "source": [
    "## Utility functions\n",
    "\n",
    "Next, we will define some utility functions:"
   ]
  },
  {
   "cell_type": "code",
   "execution_count": 11,
   "metadata": {
    "collapsed": true
   },
   "outputs": [],
   "source": [
    "def take(n, iterable):\n",
    "    \"Returns a generator of the first **n** elements of an iterable\"\n",
    "    return itertools.islice(iterable, n )\n",
    "\n",
    "\n",
    "def zipWith(function, *iterables):\n",
    "    \"Zip a set of **iterables** together and apply **function** to each tuple\"\n",
    "    for group in itertools.izip(*iterables):\n",
    "        yield function(*group)\n",
    "\n",
    "\n",
    "def uncurry(function):\n",
    "    \"Transforms an N-arry **function** so that it accepts a single parameter of an N-tuple\"\n",
    "    @functools.wraps(function)\n",
    "    def wrapper(args):\n",
    "        return function(*args)\n",
    "    return wrapper\n",
    "\n",
    "\n",
    "def fetch_url(url, sha256, prefix='.', checksum_blocksize=2**20, dryRun=False):\n",
    "    \"\"\"Download a url.\n",
    "\n",
    "    :param url: the url to the file on the web\n",
    "    :param sha256: the SHA-256 checksum. Used to determine if the file was previously downloaded.\n",
    "    :param prefix: directory to save the file\n",
    "    :param checksum_blocksize: blocksize to used when computing the checksum\n",
    "    :param dryRun: boolean indicating that calling this function should do nothing\n",
    "    :returns: the local path to the downloaded file\n",
    "    :rtype:\n",
    "\n",
    "    \"\"\"\n",
    "\n",
    "    if not os.path.exists(prefix):\n",
    "        os.makedirs(prefix)\n",
    "\n",
    "    local = os.path.join(prefix, os.path.basename(url))\n",
    "\n",
    "    if dryRun: return local\n",
    "\n",
    "    if os.path.exists(local):\n",
    "        print ('Verifying checksum')\n",
    "        chk = hashlib.sha256()\n",
    "        with open(local, 'rb') as fd:\n",
    "            while True:\n",
    "                bits = fd.read(checksum_blocksize)\n",
    "                if not bits: break\n",
    "                chk.update(bits)\n",
    "        if sha256 == chk.hexdigest():\n",
    "            return local\n",
    "\n",
    "    print ('Downloading', url)\n",
    "\n",
    "    def report(sofar, blocksize, totalsize):\n",
    "        msg = '{}%\\r'.format(100 * sofar * blocksize / totalsize, 100)\n",
    "        sys.stderr.write(msg)\n",
    "\n",
    "    urllib.urlretrieve(url, local, report)\n",
    "\n",
    "    return local\n"
   ]
  },
  {
   "cell_type": "markdown",
   "metadata": {},
   "source": [
    "## Dataset\n",
    "\n",
    "We'll now define some global parameters"
   ]
  },
  {
   "cell_type": "markdown",
   "metadata": {},
   "source": [
    "First, the fingerprint dataset"
   ]
  },
  {
   "cell_type": "code",
   "execution_count": 12,
   "metadata": {
    "collapsed": true
   },
   "outputs": [],
   "source": [
    "DATASET_URL = 'https://s3.amazonaws.com/nist-srd/SD4/NISTSpecialDatabase4GrayScaleImagesofFIGS.zip'\n",
    "DATASET_SHA256 = '4db6a8f3f9dc14c504180cbf67cdf35167a109280f121c901be37a80ac13c449'"
   ]
  },
  {
   "cell_type": "markdown",
   "metadata": {},
   "source": [
    "We’ll define how to download the dataset. This function is general enough that it could be used to retrieve most files, but we’ll default it to use the values from above."
   ]
  },
  {
   "cell_type": "code",
   "execution_count": 13,
   "metadata": {
    "collapsed": true
   },
   "outputs": [],
   "source": [
    "def prepare_dataset(url=None, sha256=None, prefix='.', skip=False):\n",
    "    url = url or DATASET_URL\n",
    "    sha256 = sha256 or DATASET_SHA256\n",
    "    local = fetch_url(url, sha256=sha256, prefix=prefix, dryRun=skip)\n",
    "\n",
    "    if not skip:\n",
    "        print ('Extracting', local, 'to', prefix)\n",
    "        with zipfile.ZipFile(local, 'r') as zip:\n",
    "            zip.extractall(prefix)\n",
    "\n",
    "    name, _ = os.path.splitext(local)\n",
    "    return name\n",
    "\n",
    "\n",
    "def locate_paths(path_md5list, prefix):\n",
    "    with open(path_md5list) as fd:\n",
    "        for line in itertools.imap(str.strip, fd):\n",
    "            parts = line.split()\n",
    "            if not len(parts) == 2: continue\n",
    "            md5sum, path = parts\n",
    "            chksum = Checksum(value=md5sum, kind='md5')\n",
    "            filepath = os.path.join(prefix, path)\n",
    "            yield Path(checksum=chksum, filepath=filepath)\n",
    "\n",
    "\n",
    "def locate_images(paths):\n",
    "\n",
    "    def predicate(path):\n",
    "        _, ext = os.path.splitext(path.filepath)\n",
    "        return ext in ['.png']\n",
    "\n",
    "    for path in itertools.ifilter(predicate, paths):\n",
    "        yield image(id=path.checksum.value, path=path)"
   ]
  },
  {
   "cell_type": "markdown",
   "metadata": {},
   "source": [
    "## Data Model\n",
    "\n",
    "We'll define some classes so we have a nice API for working with the dataflow. We set `slots=True` so that the resulting objects will be more space-efficient."
   ]
  },
  {
   "cell_type": "markdown",
   "metadata": {},
   "source": [
    "### Utilities"
   ]
  },
  {
   "cell_type": "markdown",
   "metadata": {},
   "source": [
    "#### Checksum\n",
    "\n",
    "The checksum consists of the actual hash value (`value`) as well as a string representing the hashing algorithm.\n",
    "The validator enforces that the algorith can only be one of the listed acceptable methods"
   ]
  },
  {
   "cell_type": "code",
   "execution_count": 14,
   "metadata": {
    "collapsed": false
   },
   "outputs": [],
   "source": [
    "@attr.s(slots=True)\n",
    "class Checksum(object):\n",
    "  value = attr.ib()\n",
    "  kind = attr.ib(validator=lambda o, a, v: v in 'md5 sha1 sha224 sha256 sha384 sha512'.split())"
   ]
  },
  {
   "cell_type": "markdown",
   "metadata": {
    "collapsed": true
   },
   "source": [
    "#### Path\n",
    "\n",
    "`Path`s refer to an image's filepath and associated `Checksum`. We get the checksum \"for \"free\" since the MD5 hash is provided for each image in the dataset."
   ]
  },
  {
   "cell_type": "code",
   "execution_count": 15,
   "metadata": {
    "collapsed": true
   },
   "outputs": [],
   "source": [
    "@attr.s(slots=True)\n",
    "class Path(object):\n",
    "    checksum = attr.ib()\n",
    "    filepath = attr.ib()\n"
   ]
  },
  {
   "cell_type": "markdown",
   "metadata": {},
   "source": [
    "#### Image\n",
    "\n",
    "The start of the data pipeline is the image. An `image` has an `id` (the md5 hash) and the path to the image."
   ]
  },
  {
   "cell_type": "code",
   "execution_count": 16,
   "metadata": {
    "collapsed": true
   },
   "outputs": [],
   "source": [
    "@attr.s(slots=True)\n",
    "class image(object):\n",
    "    id = attr.ib()\n",
    "    path = attr.ib()"
   ]
  },
  {
   "cell_type": "markdown",
   "metadata": {},
   "source": [
    "### Mindtct\n",
    "\n",
    "The next step in the pipeline is to apply the `mindtct` program from NBIS. A `mindtct` object therefore represents the results of applying `mindtct` on an `image`. The `xyt` output is needed fo r the next step, and the `image` attribute represents the image id."
   ]
  },
  {
   "cell_type": "code",
   "execution_count": 17,
   "metadata": {
    "collapsed": true
   },
   "outputs": [],
   "source": [
    "@attr.s(slots=True)\n",
    "class mindtct(object):\n",
    "    image = attr.ib()\n",
    "    xyt = attr.ib()\n",
    "    \n",
    "    def pretty(self):\n",
    "        d = dict(id=self.image.id, path=self.image.path)\n",
    "        return pprint(d)"
   ]
  },
  {
   "cell_type": "markdown",
   "metadata": {},
   "source": [
    "We need a way to construct a `mindtct` object from an `image` object. A straightforward way of doing this would be to have a `from_image` `@staticmethod` or `@classmethod`, but that doesn't work well with `multiprocessing` as top-level functions work best as they need to be serialized."
   ]
  },
  {
   "cell_type": "code",
   "execution_count": 18,
   "metadata": {
    "collapsed": true
   },
   "outputs": [],
   "source": [
    "def mindtct_from_image(image):\n",
    "    imgpath = os.path.abspath(image.path.filepath)\n",
    "    tempdir = tempfile.mkdtemp()\n",
    "    oroot = os.path.join(tempdir, 'result')\n",
    "\n",
    "    cmd = ['mindtct', imgpath, oroot]\n",
    "\n",
    "    try:\n",
    "        subprocess.check_call(cmd)\n",
    "\n",
    "        with open(oroot + '.xyt') as fd:\n",
    "            xyt = fd.read()\n",
    "\n",
    "        result = mindtct(image=image.id, xyt=xyt)\n",
    "        return result\n",
    "\n",
    "    finally:\n",
    "        shutil.rmtree(tempdir)\n"
   ]
  },
  {
   "cell_type": "markdown",
   "metadata": {},
   "source": [
    "### Bozorth3\n",
    "\n",
    "The final step in the pipeline is running the `bozorth3` from NBIS. The `bozorth3` class represents the match being done: tracking the ids of the probe and gallery images as well as the match score.\n",
    "\n",
    "Since we will be writing these instance out to a database, we provide some static methods for SQL statements. While there are many Object-Relational-Model (ORM) libraries available for Python, this approach keeps the current implementation simple."
   ]
  },
  {
   "cell_type": "code",
   "execution_count": 19,
   "metadata": {
    "collapsed": false
   },
   "outputs": [],
   "source": [
    "@attr.s(slots=True)\n",
    "class bozorth3(object):\n",
    "    probe = attr.ib()\n",
    "    gallery = attr.ib()\n",
    "    score = attr.ib()\n",
    "    \n",
    "    @staticmethod\n",
    "    def sql_stmt_create_table():\n",
    "        return 'CREATE TABLE IF NOT EXISTS bozorth3' \\\n",
    "             + '(probe TEXT, gallery TEXT, score NUMERIC)'\n",
    "        \n",
    "    @staticmethod\n",
    "    def sql_prepared_stmt_insert():\n",
    "        return 'INSERT INTO bozorth3 VALUES (?, ?, ?)'\n",
    "    \n",
    "    def sql_prepared_stmt_insert_values(self):\n",
    "        return self.probe, self.gallery, self.score"
   ]
  },
  {
   "cell_type": "markdown",
   "metadata": {},
   "source": [
    "In order to work well with `multiprocessing`, we define a class representuing the input paramaters to `bozorth3` and a helper function to run `bozorth3`. This way the pipeline definition can be kept simple to a `map` to create the input and then a `map` to run the program.\n",
    "\n",
    "As NBIS `bozorth3` can be called to compare one-to-one or one-to-many, we will also dynamically choose between these approaches depending on if the gallery attribute is a list or a single object."
   ]
  },
  {
   "cell_type": "code",
   "execution_count": 20,
   "metadata": {
    "collapsed": true
   },
   "outputs": [],
   "source": [
    "@attr.s(slots=True)\n",
    "class bozorth3_input(object):\n",
    "    probe = attr.ib()\n",
    "    gallery = attr.ib()\n",
    "    \n",
    "    def run(self):\n",
    "        if isinstance(self.gallery, mindtct):\n",
    "            return bozorth3_from_one_to_one(self.probe, self.gallery)\n",
    "        elif isinstance(self.gallery, types.ListType):\n",
    "            return bozorth3_from_one_to_many(self.probe, self.gallery)\n",
    "        else:\n",
    "            raise ValueError('Unhandled type for gallery: {}'.format(type(gallery)))"
   ]
  },
  {
   "cell_type": "markdown",
   "metadata": {},
   "source": [
    "The next is the top-level function to running `bozorth3`. It accepts an instance of `bozorth3_input`. The is implemented as a simple top-level wrapper so that it can be easily passed to the `multiprocessing` library."
   ]
  },
  {
   "cell_type": "code",
   "execution_count": 21,
   "metadata": {
    "collapsed": true
   },
   "outputs": [],
   "source": [
    "def run_bozorth3(input):\n",
    "    return input.run()"
   ]
  },
  {
   "cell_type": "markdown",
   "metadata": {},
   "source": [
    "#### Running Bozorth3\n",
    "\n",
    "There are two cases to handle:\n",
    "1. One-to-one probe to gallery sets\n",
    "1. One-to-many probe to gallery sets\n",
    "\n",
    "Both approaches are implemented below.\n",
    "The implementations follow the same pattern:\n",
    "1. Create a temporary directory within with to work\n",
    "1. Write the probe and gallery images to files in the temporary directory\n",
    "1. Call the `bozorth3` executable\n",
    "1. The match score is written to `stdout` which is captured and then parsed.\n",
    "1. Return a `bozorth3` instance for each match\n",
    "1. Make sure to clean up the temporary directory"
   ]
  },
  {
   "cell_type": "markdown",
   "metadata": {},
   "source": [
    "##### One-to-one"
   ]
  },
  {
   "cell_type": "code",
   "execution_count": 22,
   "metadata": {
    "collapsed": true
   },
   "outputs": [],
   "source": [
    "def bozorth3_from_one_to_one(probe, gallery):\n",
    "    tempdir = tempfile.mkdtemp()\n",
    "    probeFile = os.path.join(tempdir, 'probe.xyt')\n",
    "    galleryFile = os.path.join(tempdir, 'gallery.xyt')\n",
    "    \n",
    "    with open(probeFile,   'wb') as fd: fd.write(probe.xyt)\n",
    "    with open(galleryFile, 'wb') as fd: fd.write(gallery.xyt)\n",
    "        \n",
    "    cmd = ['bozorth3', probeFile, galleryFile]\n",
    "    \n",
    "    try:\n",
    "        result = subprocess.check_output(cmd)\n",
    "        score = int(result.strip())\n",
    "        return bozorth3(probe=probe.image, gallery=gallery.image, score=score)\n",
    "    finally:\n",
    "        shutil.rmtree(tempdir)"
   ]
  },
  {
   "cell_type": "markdown",
   "metadata": {},
   "source": [
    "##### One-to-many"
   ]
  },
  {
   "cell_type": "code",
   "execution_count": 23,
   "metadata": {
    "collapsed": true
   },
   "outputs": [],
   "source": [
    "def bozorth3_from_one_to_many(probe, galleryset):\n",
    "    tempdir = tempfile.mkdtemp()\n",
    "    probeFile = os.path.join(tempdir, 'probe.xyt')\n",
    "    galleryFiles = [os.path.join(tempdir, 'gallery%d.xyt' % i)\n",
    "                    for i,_ in enumerate(galleryset)]\n",
    "    \n",
    "    with open(probeFile, 'wb') as fd: fd.write(probe.xyt)\n",
    "    for galleryFile, gallery in itertools.izip(galleryFiles, galleryset):\n",
    "        with open(galleryFile, 'wb') as fd: fd.write(gallery.xyt)\n",
    "            \n",
    "    cmd = ['bozorth3', '-p', probeFile] + galleryFiles\n",
    "    \n",
    "    try:\n",
    "        result = subprocess.check_output(cmd).strip()\n",
    "        scores = map(int, result.split('\\n'))\n",
    "        return [bozorth3(probe=probe.image, gallery=gallery.image, score=score)\n",
    "               for score, gallery in zip(scores, galleryset)]\n",
    "    finally:\n",
    "        shutil.rmtree(tempdir)"
   ]
  },
  {
   "cell_type": "markdown",
   "metadata": {},
   "source": [
    "# Plotting\n",
    "\n",
    "For plotting we will operate only on the database. We'll select a small number of probe images and plot the score between them and the rest of the gallery images.\n",
    "\n",
    "The `mk_short_labels` helper function will be defined below."
   ]
  },
  {
   "cell_type": "code",
   "execution_count": 24,
   "metadata": {
    "collapsed": true
   },
   "outputs": [],
   "source": [
    "def plot(dbfile, nprobes=10):\n",
    "    conn = sqlite3.connect(dbfile)\n",
    "    results = pd.read_sql(\n",
    "        \"SELECT DISTINCT probe FROM bozorth3 ORDER BY score LIMIT '%s'\" % nprobes,\n",
    "        con=conn\n",
    "    )\n",
    "    shortlabels = mk_short_labels(results.probe)\n",
    "    plt.figure()\n",
    "    \n",
    "    for i, probe in results.probe.iteritems():\n",
    "        stmt = 'SELECT gallery, score FROM bozorth3 WHERE probe = ? ORDER BY gallery DESC'\n",
    "        matches = pd.read_sql(stmt, params=(probe,), con=conn)\n",
    "        xs = np.arange(len(matches), dtype=np.int)\n",
    "        plt.plot(xs, matches.score, label='probe %s' % shortlabels[i])\n",
    "        \n",
    "    plt.ylabel('Score')\n",
    "    plt.xlabel('Gallery')\n",
    "    plt.legend(bbox_to_anchor=(0, 0, 1, -0.2))\n",
    "    plt.show()"
   ]
  },
  {
   "cell_type": "markdown",
   "metadata": {},
   "source": [
    "The image ids are long hash strings. In ordere to minimize the amount of space on the figure the labels occupy, we provide a helper function to create a short label that still uniquely identifies each probe image in the selected sample"
   ]
  },
  {
   "cell_type": "code",
   "execution_count": 25,
   "metadata": {
    "collapsed": false
   },
   "outputs": [],
   "source": [
    "def mk_short_labels(series, start=7):\n",
    "    for size in xrange(start, len(series[0])):\n",
    "        if len(series) == len(set(map(lambda s: s[:size], series))):\n",
    "            break\n",
    "    return map(lambda s: s[:size], series)"
   ]
  },
  {
   "cell_type": "markdown",
   "metadata": {},
   "source": [
    "# Putting it all Together"
   ]
  },
  {
   "cell_type": "markdown",
   "metadata": {},
   "source": [
    "First, set up a temporary directory in which to work:"
   ]
  },
  {
   "cell_type": "code",
   "execution_count": 26,
   "metadata": {
    "collapsed": false
   },
   "outputs": [],
   "source": [
    "pool = multiprocessing.Pool()\n",
    "prefix = '/tmp/fingerprint_example/'\n",
    "if not os.path.exists(prefix):\n",
    "    os.makedirs(prefix)"
   ]
  },
  {
   "cell_type": "markdown",
   "metadata": {},
   "source": [
    "Next we download and extract the fingerprint images from NIST:"
   ]
  },
  {
   "cell_type": "code",
   "execution_count": 27,
   "metadata": {
    "collapsed": false
   },
   "outputs": [
    {
     "name": "stdout",
     "output_type": "stream",
     "text": [
      "Verifying checksum\n",
      "Extracting /tmp/fingerprint_example/NISTSpecialDatabase4GrayScaleImagesofFIGS.zip to /tmp/fingerprint_example/\n",
      "CPU times: user 3.34 s, sys: 645 ms, total: 3.99 s\n",
      "Wall time: 4.01 s\n"
     ]
    }
   ],
   "source": [
    "%%time\n",
    "dataprefix = prepare_dataset(prefix=prefix)"
   ]
  },
  {
   "cell_type": "markdown",
   "metadata": {},
   "source": [
    "Next we will configure the location of of the MD5 checksum file that comes with the download"
   ]
  },
  {
   "cell_type": "code",
   "execution_count": 28,
   "metadata": {
    "collapsed": true
   },
   "outputs": [],
   "source": [
    "md5listpath = os.path.join(prefix, 'NISTSpecialDatabase4GrayScaleImagesofFIGS/sd04/sd04_md5.lst')"
   ]
  },
  {
   "cell_type": "markdown",
   "metadata": {},
   "source": [
    "Load the images from the downloaded files to start the analysis pipeline"
   ]
  },
  {
   "cell_type": "code",
   "execution_count": 29,
   "metadata": {
    "collapsed": false
   },
   "outputs": [
    {
     "name": "stdout",
     "output_type": "stream",
     "text": [
      "Loading images\n",
      "Done\n",
      "CPU times: user 187 ms, sys: 17 ms, total: 204 ms\n",
      "Wall time: 1min 21s\n"
     ]
    }
   ],
   "source": [
    "%%time\n",
    "print('Loading images')\n",
    "paths = locate_paths(md5listpath, dataprefix)\n",
    "images = locate_images(paths)\n",
    "mindtcts = pool.map(mindtct_from_image, images)\n",
    "print('Done')"
   ]
  },
  {
   "cell_type": "markdown",
   "metadata": {},
   "source": [
    "We can examine one of the loaded image. Note that `image` is refers to the MD5 checksum that came with the image and the `xyt` attribute represents the raw image data."
   ]
  },
  {
   "cell_type": "code",
   "execution_count": 30,
   "metadata": {
    "collapsed": false
   },
   "outputs": [
    {
     "name": "stdout",
     "output_type": "stream",
     "text": [
      "98b15d56330cb17f1982ae79348f711d\n",
      "14 146 214 6\n",
      "25 238 22 37\n",
      "25 51 180 20\n",
      "30 332 214 \n"
     ]
    }
   ],
   "source": [
    "print(mindtcts[0].image)\n",
    "print(mindtcts[0].xyt[:50])"
   ]
  },
  {
   "cell_type": "markdown",
   "metadata": {},
   "source": [
    "For example purposes we will only a use a small percentage of the database, randomly selected, for pur probe and gallery datasets."
   ]
  },
  {
   "cell_type": "code",
   "execution_count": 39,
   "metadata": {
    "collapsed": true
   },
   "outputs": [],
   "source": [
    "perc_probe = 0.001\n",
    "perc_gallery = 0.1"
   ]
  },
  {
   "cell_type": "code",
   "execution_count": 40,
   "metadata": {
    "collapsed": false
   },
   "outputs": [
    {
     "name": "stdout",
     "output_type": "stream",
     "text": [
      "Generating samples\n",
      "|Probes| = 4\n",
      "|Gallery|= 400\n",
      "CPU times: user 2 ms, sys: 0 ns, total: 2 ms\n",
      "Wall time: 993 µs\n"
     ]
    }
   ],
   "source": [
    "%%time\n",
    "print('Generating samples')\n",
    "probes  = random.sample(mindtcts, int(perc_probe   * len(mindtcts)))\n",
    "gallery = random.sample(mindtcts, int(perc_gallery * len(mindtcts)))\n",
    "print('|Probes| =', len(probes))\n",
    "print('|Gallery|=', len(gallery))"
   ]
  },
  {
   "cell_type": "markdown",
   "metadata": {},
   "source": [
    "We can now compute the matching scores between the probe and gallery sets.\n",
    "This will use all cores available on this workstation."
   ]
  },
  {
   "cell_type": "code",
   "execution_count": 41,
   "metadata": {
    "collapsed": false
   },
   "outputs": [
    {
     "name": "stdout",
     "output_type": "stream",
     "text": [
      "Matching\n",
      "CPU times: user 19 ms, sys: 1 ms, total: 20 ms\n",
      "Wall time: 1.07 s\n"
     ]
    }
   ],
   "source": [
    "%%time\n",
    "print('Matching')\n",
    "input = [bozorth3_input(probe=probe, gallery=gallery)\n",
    "         for probe in probes]\n",
    "bozorth3s = pool.map(run_bozorth3, input)"
   ]
  },
  {
   "cell_type": "markdown",
   "metadata": {},
   "source": [
    "`bozorth3s` is now a `list` of `lists` of `bozorth3` instances."
   ]
  },
  {
   "cell_type": "code",
   "execution_count": 42,
   "metadata": {
    "collapsed": false
   },
   "outputs": [
    {
     "name": "stdout",
     "output_type": "stream",
     "text": [
      "|Probes|  = 4\n",
      "|Gallery| = 400\n",
      "Result: bozorth3(probe='caf9143b268701416fbed6a9eb2eb4cf', gallery='22fa0f24998eaea39dea152e4a73f267', score=4)\n"
     ]
    }
   ],
   "source": [
    "print('|Probes|  =', len(bozorth3s))\n",
    "print('|Gallery| =', len(bozorth3s[0]))\n",
    "print('Result:', bozorth3s[0][0])"
   ]
  },
  {
   "cell_type": "markdown",
   "metadata": {},
   "source": [
    "Now add the results to the database"
   ]
  },
  {
   "cell_type": "code",
   "execution_count": 43,
   "metadata": {
    "collapsed": false
   },
   "outputs": [
    {
     "data": {
      "text/plain": [
       "<sqlite3.Cursor at 0x7f8a2f677490>"
      ]
     },
     "execution_count": 43,
     "metadata": {},
     "output_type": "execute_result"
    }
   ],
   "source": [
    "dbfile = os.path.join(prefix, 'scores.db')\n",
    "conn = sqlite3.connect(dbfile)\n",
    "cursor = conn.cursor()\n",
    "cursor.execute(bozorth3.sql_stmt_create_table())"
   ]
  },
  {
   "cell_type": "code",
   "execution_count": 44,
   "metadata": {
    "collapsed": false
   },
   "outputs": [
    {
     "name": "stdout",
     "output_type": "stream",
     "text": [
      "Inserted results for probe caf9143b268701416fbed6a9eb2eb4cf\n",
      "Inserted results for probe 55ac57f711eba081b9302eab74dea88e\n",
      "Inserted results for probe 4ed2d53db3b5ab7d6b216ea0314beb4f\n",
      "Inserted results for probe 20f68849ee2dad02b8fb33ecd3ece507\n",
      "CPU times: user 2 ms, sys: 3 ms, total: 5 ms\n",
      "Wall time: 3.57 ms\n"
     ]
    }
   ],
   "source": [
    "%%time\n",
    "for group in bozorth3s:\n",
    "    vals = map(bozorth3.sql_prepared_stmt_insert_values, group)\n",
    "    cursor.executemany(bozorth3.sql_prepared_stmt_insert(), vals)\n",
    "    conn.commit()\n",
    "    print('Inserted results for probe', group[0].probe)"
   ]
  },
  {
   "cell_type": "markdown",
   "metadata": {},
   "source": [
    "We now plot the results."
   ]
  },
  {
   "cell_type": "code",
   "execution_count": 45,
   "metadata": {
    "collapsed": false
   },
   "outputs": [
    {
     "data": {
      "image/png": "[encoded data removed]",
      "text/plain": [
       "<matplotlib.figure.Figure at 0x7f8a61785ad0>"
      ]
     },
     "metadata": {},
     "output_type": "display_data"
    }
   ],
   "source": [
    "plot(dbfile, nprobes=len(probes))"
   ]
  },
  {
   "cell_type": "code",
   "execution_count": 46,
   "metadata": {
    "collapsed": false
   },
   "outputs": [],
   "source": [
    "cursor.close()"
   ]
  },
  {
   "cell_type": "code",
   "execution_count": null,
   "metadata": {
    "collapsed": true
   },
   "outputs": [],
   "source": []
  }
 ],
 "metadata": {
  "kernelspec": {
   "display_name": "Python 2",
   "language": "python",
   "name": "python2"
  },
  "language_info": {
   "codemirror_mode": {
    "name": "ipython",
    "version": 2
   },
   "file_extension": ".py",
   "mimetype": "text/x-python",
   "name": "python",
   "nbconvert_exporter": "python",
   "pygments_lexer": "ipython2",
   "version": "2.7.16"
  }
 },
 "nbformat": 4,
 "nbformat_minor": 0
}
