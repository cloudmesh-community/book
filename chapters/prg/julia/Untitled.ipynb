{
 "cells": [
  {
   "cell_type": "code",
   "execution_count": 1,
   "metadata": {},
   "outputs": [
    {
     "data": {
      "text/plain": [
       "209"
      ]
     },
     "execution_count": 1,
     "metadata": {},
     "output_type": "execute_result"
    }
   ],
   "source": [
    "a = 5\n",
    "b = 2a^2 + 30a + 9"
   ]
  },
  {
   "cell_type": "code",
   "execution_count": 3,
   "metadata": {},
   "outputs": [
    {
     "name": "stderr",
     "output_type": "stream",
     "text": [
      "\u001b[1m\u001b[34mINFO: Precompiling module PyPlot...\n",
      "\u001b[0m"
     ]
    },
    {
     "ename": "LoadError",
     "evalue": "InitError: Failed to import required Python module matplotlib.\n\nFor automated matplotlib installation, try configuring PyCall to use the Conda.jl package's Python \"Miniconda\" distribution within Julia. Relaunch Julia and run:\n    ENV[\"PYTHON\"]=\"\"\n    Pkg.build(\"PyCall\")\nbefore trying again.\n\nThe pyimport exception was: PyError (:PyImport_ImportModule) <class 'ModuleNotFoundError'>\nModuleNotFoundError(\"No module named 'matplotlib'\")\n\n\nduring initialization of module PyPlot",
     "traceback": [
      "InitError: Failed to import required Python module matplotlib.\n\nFor automated matplotlib installation, try configuring PyCall to use the Conda.jl package's Python \"Miniconda\" distribution within Julia. Relaunch Julia and run:\n    ENV[\"PYTHON\"]=\"\"\n    Pkg.build(\"PyCall\")\nbefore trying again.\n\nThe pyimport exception was: PyError (:PyImport_ImportModule) <class 'ModuleNotFoundError'>\nModuleNotFoundError(\"No module named 'matplotlib'\")\n\n\nduring initialization of module PyPlot",
      "",
      " in pyimport_conda at /home/khickman/.julia/v0.4/PyCall/src/PyCall.jl:507"
     ],
     "output_type": "error"
    }
   ],
   "source": [
    "using PyPlot\n",
    "x = linspace(0,5)\n",
    "y = cos(2x + 5)\n",
    "plot(x, y, linewidth=2.0, linestyle=\"--\")\n",
    "title(\"a nice cosinus\")\n",
    "xlabel(\"x axis\")\n",
    "ylabel(\"y axis\")"
   ]
  }
 ],
 "metadata": {
  "kernelspec": {
   "display_name": "Julia 0.4.5",
   "language": "julia",
   "name": "julia-0.4"
  },
  "language_info": {
   "file_extension": ".jl",
   "mimetype": "application/julia",
   "name": "julia",
   "version": "0.4.5"
  }
 },
 "nbformat": 4,
 "nbformat_minor": 2
}
